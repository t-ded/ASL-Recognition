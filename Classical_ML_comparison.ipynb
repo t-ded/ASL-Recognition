{
 "cells": [
  {
   "cell_type": "markdown",
   "id": "5a71ac7b",
   "metadata": {},
   "source": [
    "<h1>Dataset Preprocessing to Enable Application of Classical ML Models</h1>"
   ]
  },
  {
   "cell_type": "code",
   "execution_count": 1,
   "id": "250cc579",
   "metadata": {},
   "outputs": [],
   "source": [
    "import json\n",
    "from timeit import default_timer"
   ]
  },
  {
   "cell_type": "code",
   "execution_count": 2,
   "id": "e8a40f7e",
   "metadata": {},
   "outputs": [],
   "source": [
    "import numpy as np\n",
    "import tensorflow as tf"
   ]
  },
  {
   "cell_type": "code",
   "execution_count": 3,
   "id": "1d153247",
   "metadata": {},
   "outputs": [],
   "source": [
    "from model.model import build_preprocessing"
   ]
  },
  {
   "cell_type": "code",
   "execution_count": 4,
   "id": "368d83c2",
   "metadata": {},
   "outputs": [],
   "source": [
    "# Load configuration file from json in the given folder\n",
    "with open(\"config.json\", \"r\") as config_file:\n",
    "    config = json.load(config_file)"
   ]
  },
  {
   "cell_type": "code",
   "execution_count": 5,
   "id": "e649e989",
   "metadata": {},
   "outputs": [],
   "source": [
    "# Set up the list of gestures\n",
    "with open(config[\"Paths\"][\"Gesture list\"], \"r\") as gesture_list:\n",
    "    gestures = gesture_list.readlines()[0].split(\", \")"
   ]
  },
  {
   "cell_type": "code",
   "execution_count": 6,
   "id": "49cc51b7",
   "metadata": {},
   "outputs": [],
   "source": [
    "img_size = config[\"General parameters\"][\"Image size\"]"
   ]
  },
  {
   "cell_type": "code",
   "execution_count": 7,
   "id": "49925073",
   "metadata": {},
   "outputs": [
    {
     "name": "stdout",
     "output_type": "stream",
     "text": [
      "Found 36756 files belonging to 49 classes.\n",
      "Using 25730 files for training.\n",
      "Using 11026 files for validation.\n"
     ]
    }
   ],
   "source": [
    "train_images, test_images = tf.keras.preprocessing.image_dataset_from_directory(\"Data\",\n",
    "                                                                                labels=\"inferred\",\n",
    "                                                                                label_mode=\"int\",\n",
    "                                                                                class_names=gestures,\n",
    "                                                                                color_mode=\"rgb\",\n",
    "                                                                                batch_size=128,\n",
    "                                                                                image_size=(img_size,\n",
    "                                                                                            img_size),\n",
    "                                                                                shuffle=True,\n",
    "                                                                                seed=45,\n",
    "                                                                                validation_split=0.3,\n",
    "                                                                                subset=\"both\")"
   ]
  },
  {
   "cell_type": "code",
   "execution_count": 8,
   "id": "bf1a7bb0",
   "metadata": {},
   "outputs": [],
   "source": [
    "# Set the default preprocessing pipeline if not specified\n",
    "preprocessing_layers = config[\"Model\"][\"Default preprocessing\"]\n",
    "preprocessing_layers = \"I,G,R\"\n",
    "\n",
    "# Build the preprocessing pipeline according to given instructions\n",
    "img_size = 128\n",
    "resize = tf.keras.layers.Resizing(img_size, img_size)\n",
    "preprocessing = build_preprocessing(inp_shape=[img_size,\n",
    "                                               img_size,\n",
    "                                               3],\n",
    "                                    instructions=preprocessing_layers,\n",
    "                                    name=\"preprocessing_pipeline\")"
   ]
  },
  {
   "cell_type": "code",
   "execution_count": 9,
   "id": "f2e0ad5b",
   "metadata": {},
   "outputs": [
    {
     "name": "stdout",
     "output_type": "stream",
     "text": [
      "WARNING:tensorflow:From C:\\Users\\tomas\\anaconda3\\envs\\asl\\lib\\site-packages\\tensorflow\\python\\autograph\\pyct\\static_analysis\\liveness.py:83: Analyzer.lamba_check (from tensorflow.python.autograph.pyct.static_analysis.liveness) is deprecated and will be removed after 2023-09-23.\n",
      "Instructions for updating:\n",
      "Lambda fuctions will be no more assumed to be used in the statement where they are used, or at least in the same block. https://github.com/tensorflow/tensorflow/issues/56089\n"
     ]
    }
   ],
   "source": [
    "# Apply the same preprocessing steps as for the CNN but flatten the images\n",
    "channels = 1 if \"G\" in preprocessing_layers else 3\n",
    "train_images = train_images.map(lambda x, y: (tf.reshape(preprocessing(resize(x)), [-1, img_size ** 2 * channels]), y)).unbatch()\n",
    "test_images = test_images.map(lambda x, y: (tf.reshape(preprocessing(resize(x)), [-1, img_size ** 2 * channels]), y)).unbatch()"
   ]
  },
  {
   "cell_type": "code",
   "execution_count": 10,
   "id": "b983cb05",
   "metadata": {},
   "outputs": [],
   "source": [
    "# Convert the tf.data.Datasets to numpy arrays containing image & label per sample\n",
    "train_images = np.array(list(train_images.as_numpy_iterator()), dtype=tuple)\n",
    "test_images = np.array(list(test_images.as_numpy_iterator()), dtype=tuple)"
   ]
  },
  {
   "cell_type": "code",
   "execution_count": 11,
   "id": "8daeada4",
   "metadata": {},
   "outputs": [],
   "source": [
    "# Extract the images and the labels separately\n",
    "train_X, train_y = np.array([element[0] for element in train_images]), np.ravel(np.vstack([element[1] for element in train_images]))\n",
    "test_X, test_y = np.array([element[0] for element in test_images]), np.ravel(np.vstack([element[1] for element in test_images]))"
   ]
  },
  {
   "cell_type": "code",
   "execution_count": 12,
   "id": "4206575f",
   "metadata": {},
   "outputs": [
    {
     "name": "stdout",
     "output_type": "stream",
     "text": [
      "Training dataset memory consumption: 1608.1MB\n"
     ]
    }
   ],
   "source": [
    "# Check memory consumption for the training dataset\n",
    "print(\"Training dataset memory consumption: {:.1f}MB\".format(train_X.nbytes / (1024 * 1024.0)))"
   ]
  },
  {
   "cell_type": "markdown",
   "id": "b437dcf4",
   "metadata": {},
   "source": [
    "<h1>k-NN Gesture Classification</h1>"
   ]
  },
  {
   "cell_type": "code",
   "execution_count": 13,
   "id": "195314ee",
   "metadata": {},
   "outputs": [],
   "source": [
    "import matplotlib.pyplot as plt\n",
    "import seaborn as sb\n",
    "from sklearn.neighbors import KNeighborsClassifier\n",
    "from sklearn.metrics import classification_report, accuracy_score\n",
    "from sklearn.model_selection import GridSearchCV"
   ]
  },
  {
   "cell_type": "code",
   "execution_count": 14,
   "id": "05968405",
   "metadata": {
    "scrolled": true
   },
   "outputs": [
    {
     "data": {
      "text/html": [
       "<style>#sk-container-id-1 {color: black;background-color: white;}#sk-container-id-1 pre{padding: 0;}#sk-container-id-1 div.sk-toggleable {background-color: white;}#sk-container-id-1 label.sk-toggleable__label {cursor: pointer;display: block;width: 100%;margin-bottom: 0;padding: 0.3em;box-sizing: border-box;text-align: center;}#sk-container-id-1 label.sk-toggleable__label-arrow:before {content: \"▸\";float: left;margin-right: 0.25em;color: #696969;}#sk-container-id-1 label.sk-toggleable__label-arrow:hover:before {color: black;}#sk-container-id-1 div.sk-estimator:hover label.sk-toggleable__label-arrow:before {color: black;}#sk-container-id-1 div.sk-toggleable__content {max-height: 0;max-width: 0;overflow: hidden;text-align: left;background-color: #f0f8ff;}#sk-container-id-1 div.sk-toggleable__content pre {margin: 0.2em;color: black;border-radius: 0.25em;background-color: #f0f8ff;}#sk-container-id-1 input.sk-toggleable__control:checked~div.sk-toggleable__content {max-height: 200px;max-width: 100%;overflow: auto;}#sk-container-id-1 input.sk-toggleable__control:checked~label.sk-toggleable__label-arrow:before {content: \"▾\";}#sk-container-id-1 div.sk-estimator input.sk-toggleable__control:checked~label.sk-toggleable__label {background-color: #d4ebff;}#sk-container-id-1 div.sk-label input.sk-toggleable__control:checked~label.sk-toggleable__label {background-color: #d4ebff;}#sk-container-id-1 input.sk-hidden--visually {border: 0;clip: rect(1px 1px 1px 1px);clip: rect(1px, 1px, 1px, 1px);height: 1px;margin: -1px;overflow: hidden;padding: 0;position: absolute;width: 1px;}#sk-container-id-1 div.sk-estimator {font-family: monospace;background-color: #f0f8ff;border: 1px dotted black;border-radius: 0.25em;box-sizing: border-box;margin-bottom: 0.5em;}#sk-container-id-1 div.sk-estimator:hover {background-color: #d4ebff;}#sk-container-id-1 div.sk-parallel-item::after {content: \"\";width: 100%;border-bottom: 1px solid gray;flex-grow: 1;}#sk-container-id-1 div.sk-label:hover label.sk-toggleable__label {background-color: #d4ebff;}#sk-container-id-1 div.sk-serial::before {content: \"\";position: absolute;border-left: 1px solid gray;box-sizing: border-box;top: 0;bottom: 0;left: 50%;z-index: 0;}#sk-container-id-1 div.sk-serial {display: flex;flex-direction: column;align-items: center;background-color: white;padding-right: 0.2em;padding-left: 0.2em;position: relative;}#sk-container-id-1 div.sk-item {position: relative;z-index: 1;}#sk-container-id-1 div.sk-parallel {display: flex;align-items: stretch;justify-content: center;background-color: white;position: relative;}#sk-container-id-1 div.sk-item::before, #sk-container-id-1 div.sk-parallel-item::before {content: \"\";position: absolute;border-left: 1px solid gray;box-sizing: border-box;top: 0;bottom: 0;left: 50%;z-index: -1;}#sk-container-id-1 div.sk-parallel-item {display: flex;flex-direction: column;z-index: 1;position: relative;background-color: white;}#sk-container-id-1 div.sk-parallel-item:first-child::after {align-self: flex-end;width: 50%;}#sk-container-id-1 div.sk-parallel-item:last-child::after {align-self: flex-start;width: 50%;}#sk-container-id-1 div.sk-parallel-item:only-child::after {width: 0;}#sk-container-id-1 div.sk-dashed-wrapped {border: 1px dashed gray;margin: 0 0.4em 0.5em 0.4em;box-sizing: border-box;padding-bottom: 0.4em;background-color: white;}#sk-container-id-1 div.sk-label label {font-family: monospace;font-weight: bold;display: inline-block;line-height: 1.2em;}#sk-container-id-1 div.sk-label-container {text-align: center;}#sk-container-id-1 div.sk-container {/* jupyter's `normalize.less` sets `[hidden] { display: none; }` but bootstrap.min.css set `[hidden] { display: none !important; }` so we also need the `!important` here to be able to override the default hidden behavior on the sphinx rendered scikit-learn.org. See: https://github.com/scikit-learn/scikit-learn/issues/21755 */display: inline-block !important;position: relative;}#sk-container-id-1 div.sk-text-repr-fallback {display: none;}</style><div id=\"sk-container-id-1\" class=\"sk-top-container\"><div class=\"sk-text-repr-fallback\"><pre>KNeighborsClassifier(n_jobs=-1, n_neighbors=1, p=1)</pre><b>In a Jupyter environment, please rerun this cell to show the HTML representation or trust the notebook. <br />On GitHub, the HTML representation is unable to render, please try loading this page with nbviewer.org.</b></div><div class=\"sk-container\" hidden><div class=\"sk-item\"><div class=\"sk-estimator sk-toggleable\"><input class=\"sk-toggleable__control sk-hidden--visually\" id=\"sk-estimator-id-1\" type=\"checkbox\" checked><label for=\"sk-estimator-id-1\" class=\"sk-toggleable__label sk-toggleable__label-arrow\">KNeighborsClassifier</label><div class=\"sk-toggleable__content\"><pre>KNeighborsClassifier(n_jobs=-1, n_neighbors=1, p=1)</pre></div></div></div></div></div>"
      ],
      "text/plain": [
       "KNeighborsClassifier(n_jobs=-1, n_neighbors=1, p=1)"
      ]
     },
     "execution_count": 14,
     "metadata": {},
     "output_type": "execute_result"
    }
   ],
   "source": [
    "# Initialize and train the k-NN classifier with parameters obtained from grid search\n",
    "knn = KNeighborsClassifier(n_neighbors=1,\n",
    "                           p=1,\n",
    "                           n_jobs=-1)\n",
    "knn.fit(train_X, train_y)"
   ]
  },
  {
   "cell_type": "code",
   "execution_count": 15,
   "id": "5c91fd8e",
   "metadata": {},
   "outputs": [
    {
     "name": "stdout",
     "output_type": "stream",
     "text": [
      "Time per gesture: 0.07603 s\n",
      "Accuracy: 0.9832214765100671\n",
      "              precision    recall  f1-score   support\n",
      "\n",
      "     I index       0.99      1.00      0.99       217\n",
      "          My       1.00      0.99      1.00       230\n",
      "         You       0.99      1.00      0.99       231\n",
      "        Your       1.00      0.97      0.99       236\n",
      "          In       0.97      0.99      0.98       233\n",
      "          To       1.00      0.98      0.99       222\n",
      "        With       1.00      1.00      1.00       234\n",
      "         Yes       1.00      0.99      1.00       222\n",
      "          No       1.00      0.99      0.99       230\n",
      "        Well       1.00      0.99      0.99       249\n",
      "  I love you       1.00      0.97      0.99       229\n",
      "    Oh I see       1.00      0.99      0.99       238\n",
      "        Name       1.00      1.00      1.00       201\n",
      "         Hug       1.00      1.00      1.00       231\n",
      "    Internet       1.00      1.00      1.00       219\n",
      "         Bus       1.00      1.00      1.00       213\n",
      "       Money       0.99      1.00      1.00       220\n",
      "        Work       1.00      0.99      0.99       238\n",
      "         Ask       1.00      1.00      1.00       223\n",
      "          Go       1.00      1.00      1.00       230\n",
      "        Look       1.00      0.99      0.99       226\n",
      "        Have       1.00      1.00      1.00       228\n",
      "     Correct       1.00      1.00      1.00       211\n",
      "        Want       1.00      1.00      1.00       216\n",
      "           A       0.94      0.97      0.96       234\n",
      "           B       0.96      1.00      0.98       233\n",
      "           C       1.00      1.00      1.00       220\n",
      "           D       0.99      1.00      0.99       221\n",
      "           E       0.96      0.97      0.97       217\n",
      "           F       0.98      0.95      0.96       238\n",
      "           G       0.96      0.99      0.98       233\n",
      "           H       0.98      0.96      0.97       220\n",
      "           I       0.96      0.98      0.97       251\n",
      "           K       0.97      0.98      0.97       217\n",
      "           L       0.99      0.94      0.96       226\n",
      "           M       0.90      0.92      0.91       213\n",
      "           N       0.95      0.95      0.95       218\n",
      "           O       0.97      1.00      0.98       228\n",
      "           P       1.00      0.98      0.99       229\n",
      "           Q       0.98      1.00      0.99       219\n",
      "           R       0.97      0.97      0.97       202\n",
      "           S       0.95      0.98      0.97       215\n",
      "           T       0.96      0.99      0.97       215\n",
      "           U       0.95      0.95      0.95       221\n",
      "           V       0.99      0.97      0.98       249\n",
      "           W       0.99      0.94      0.96       219\n",
      "           X       0.98      1.00      0.99       220\n",
      "           Y       0.99      1.00      0.99       230\n",
      "         N-A       0.99      0.98      0.98       211\n",
      "\n",
      "    accuracy                           0.98     11026\n",
      "   macro avg       0.98      0.98      0.98     11026\n",
      "weighted avg       0.98      0.98      0.98     11026\n",
      "\n"
     ]
    }
   ],
   "source": [
    "# Evaluate the classifier on the test dataset\n",
    "start = default_timer()\n",
    "knn_predictions = knn.predict(test_X)\n",
    "\n",
    "print(\"Time per gesture:\", str(round((default_timer() - start) / (test_X.shape[0]), 5)) + \" s\")\n",
    "print(\"Accuracy:\", accuracy_score(test_y, knn_predictions))\n",
    "print(classification_report(test_y,\n",
    "                            knn_predictions,\n",
    "                            target_names=gestures))"
   ]
  },
  {
   "cell_type": "code",
   "execution_count": 16,
   "id": "48e6677f",
   "metadata": {},
   "outputs": [
    {
     "data": {
      "text/plain": [
       "(array([ 0,  1,  2,  3,  4,  5,  6,  7,  8,  9, 10, 11, 12, 13, 14, 15, 16,\n",
       "        17, 18, 19, 20, 21, 22, 23, 24, 25, 26, 27, 28, 29, 30, 31, 32, 33,\n",
       "        34, 35, 36, 37, 38, 39, 40, 41, 42, 43, 44, 45, 46, 47, 48]),\n",
       " array([220, 228, 233, 231, 236, 218, 233, 220, 229, 248, 223, 237, 202,\n",
       "        230, 219, 212, 222, 237, 223, 229, 225, 228, 210, 217, 241, 242,\n",
       "        219, 223, 219, 231, 240, 216, 257, 218, 215, 216, 218, 233, 225,\n",
       "        222, 200, 222, 222, 222, 244, 208, 223, 231, 209], dtype=int64))"
      ]
     },
     "execution_count": 16,
     "metadata": {},
     "output_type": "execute_result"
    }
   ],
   "source": [
    "np.unique(knn_predictions, return_counts=True)"
   ]
  },
  {
   "cell_type": "code",
   "execution_count": 17,
   "id": "cb794d0f",
   "metadata": {},
   "outputs": [
    {
     "data": {
      "text/plain": [
       "(array([ 0,  1,  2,  3,  4,  5,  6,  7,  8,  9, 10, 11, 12, 13, 14, 15, 16,\n",
       "        17, 18, 19, 20, 21, 22, 23, 24, 25, 26, 27, 28, 29, 30, 31, 32, 33,\n",
       "        34, 35, 36, 37, 38, 39, 40, 41, 42, 43, 44, 45, 46, 47, 48]),\n",
       " array([217, 230, 231, 236, 233, 222, 234, 222, 230, 249, 229, 238, 201,\n",
       "        231, 219, 213, 220, 238, 223, 230, 226, 228, 211, 216, 234, 233,\n",
       "        220, 221, 217, 238, 233, 220, 251, 217, 226, 213, 218, 228, 229,\n",
       "        219, 202, 215, 215, 221, 249, 219, 220, 230, 211], dtype=int64))"
      ]
     },
     "execution_count": 17,
     "metadata": {},
     "output_type": "execute_result"
    }
   ],
   "source": [
    "np.unique(test_y, return_counts=True)"
   ]
  },
  {
   "cell_type": "markdown",
   "id": "b29b01ec",
   "metadata": {},
   "source": [
    "<h1>Decision Tree Gesture Classification</h1>"
   ]
  },
  {
   "cell_type": "code",
   "execution_count": 18,
   "id": "d089be1a",
   "metadata": {},
   "outputs": [],
   "source": [
    "import matplotlib.pyplot as plt\n",
    "import seaborn as sb\n",
    "from sklearn.ensemble import RandomForestClassifier\n",
    "from sklearn.metrics import classification_report, accuracy_score\n",
    "from sklearn.model_selection import GridSearchCV"
   ]
  },
  {
   "cell_type": "code",
   "execution_count": 19,
   "id": "8b241621",
   "metadata": {},
   "outputs": [
    {
     "data": {
      "text/html": [
       "<style>#sk-container-id-2 {color: black;background-color: white;}#sk-container-id-2 pre{padding: 0;}#sk-container-id-2 div.sk-toggleable {background-color: white;}#sk-container-id-2 label.sk-toggleable__label {cursor: pointer;display: block;width: 100%;margin-bottom: 0;padding: 0.3em;box-sizing: border-box;text-align: center;}#sk-container-id-2 label.sk-toggleable__label-arrow:before {content: \"▸\";float: left;margin-right: 0.25em;color: #696969;}#sk-container-id-2 label.sk-toggleable__label-arrow:hover:before {color: black;}#sk-container-id-2 div.sk-estimator:hover label.sk-toggleable__label-arrow:before {color: black;}#sk-container-id-2 div.sk-toggleable__content {max-height: 0;max-width: 0;overflow: hidden;text-align: left;background-color: #f0f8ff;}#sk-container-id-2 div.sk-toggleable__content pre {margin: 0.2em;color: black;border-radius: 0.25em;background-color: #f0f8ff;}#sk-container-id-2 input.sk-toggleable__control:checked~div.sk-toggleable__content {max-height: 200px;max-width: 100%;overflow: auto;}#sk-container-id-2 input.sk-toggleable__control:checked~label.sk-toggleable__label-arrow:before {content: \"▾\";}#sk-container-id-2 div.sk-estimator input.sk-toggleable__control:checked~label.sk-toggleable__label {background-color: #d4ebff;}#sk-container-id-2 div.sk-label input.sk-toggleable__control:checked~label.sk-toggleable__label {background-color: #d4ebff;}#sk-container-id-2 input.sk-hidden--visually {border: 0;clip: rect(1px 1px 1px 1px);clip: rect(1px, 1px, 1px, 1px);height: 1px;margin: -1px;overflow: hidden;padding: 0;position: absolute;width: 1px;}#sk-container-id-2 div.sk-estimator {font-family: monospace;background-color: #f0f8ff;border: 1px dotted black;border-radius: 0.25em;box-sizing: border-box;margin-bottom: 0.5em;}#sk-container-id-2 div.sk-estimator:hover {background-color: #d4ebff;}#sk-container-id-2 div.sk-parallel-item::after {content: \"\";width: 100%;border-bottom: 1px solid gray;flex-grow: 1;}#sk-container-id-2 div.sk-label:hover label.sk-toggleable__label {background-color: #d4ebff;}#sk-container-id-2 div.sk-serial::before {content: \"\";position: absolute;border-left: 1px solid gray;box-sizing: border-box;top: 0;bottom: 0;left: 50%;z-index: 0;}#sk-container-id-2 div.sk-serial {display: flex;flex-direction: column;align-items: center;background-color: white;padding-right: 0.2em;padding-left: 0.2em;position: relative;}#sk-container-id-2 div.sk-item {position: relative;z-index: 1;}#sk-container-id-2 div.sk-parallel {display: flex;align-items: stretch;justify-content: center;background-color: white;position: relative;}#sk-container-id-2 div.sk-item::before, #sk-container-id-2 div.sk-parallel-item::before {content: \"\";position: absolute;border-left: 1px solid gray;box-sizing: border-box;top: 0;bottom: 0;left: 50%;z-index: -1;}#sk-container-id-2 div.sk-parallel-item {display: flex;flex-direction: column;z-index: 1;position: relative;background-color: white;}#sk-container-id-2 div.sk-parallel-item:first-child::after {align-self: flex-end;width: 50%;}#sk-container-id-2 div.sk-parallel-item:last-child::after {align-self: flex-start;width: 50%;}#sk-container-id-2 div.sk-parallel-item:only-child::after {width: 0;}#sk-container-id-2 div.sk-dashed-wrapped {border: 1px dashed gray;margin: 0 0.4em 0.5em 0.4em;box-sizing: border-box;padding-bottom: 0.4em;background-color: white;}#sk-container-id-2 div.sk-label label {font-family: monospace;font-weight: bold;display: inline-block;line-height: 1.2em;}#sk-container-id-2 div.sk-label-container {text-align: center;}#sk-container-id-2 div.sk-container {/* jupyter's `normalize.less` sets `[hidden] { display: none; }` but bootstrap.min.css set `[hidden] { display: none !important; }` so we also need the `!important` here to be able to override the default hidden behavior on the sphinx rendered scikit-learn.org. See: https://github.com/scikit-learn/scikit-learn/issues/21755 */display: inline-block !important;position: relative;}#sk-container-id-2 div.sk-text-repr-fallback {display: none;}</style><div id=\"sk-container-id-2\" class=\"sk-top-container\"><div class=\"sk-text-repr-fallback\"><pre>RandomForestClassifier(max_depth=55, min_samples_split=5, n_jobs=-1)</pre><b>In a Jupyter environment, please rerun this cell to show the HTML representation or trust the notebook. <br />On GitHub, the HTML representation is unable to render, please try loading this page with nbviewer.org.</b></div><div class=\"sk-container\" hidden><div class=\"sk-item\"><div class=\"sk-estimator sk-toggleable\"><input class=\"sk-toggleable__control sk-hidden--visually\" id=\"sk-estimator-id-2\" type=\"checkbox\" checked><label for=\"sk-estimator-id-2\" class=\"sk-toggleable__label sk-toggleable__label-arrow\">RandomForestClassifier</label><div class=\"sk-toggleable__content\"><pre>RandomForestClassifier(max_depth=55, min_samples_split=5, n_jobs=-1)</pre></div></div></div></div></div>"
      ],
      "text/plain": [
       "RandomForestClassifier(max_depth=55, min_samples_split=5, n_jobs=-1)"
      ]
     },
     "execution_count": 19,
     "metadata": {},
     "output_type": "execute_result"
    }
   ],
   "source": [
    "# Initialize and train the Random Forest classifier with parameters obtained from grid search\n",
    "rfc = RandomForestClassifier(n_estimators=100,\n",
    "                             max_depth=55,\n",
    "                             min_samples_split=5,\n",
    "                             n_jobs=-1)\n",
    "rfc.fit(train_X, train_y)"
   ]
  },
  {
   "cell_type": "code",
   "execution_count": 20,
   "id": "ae7747d5",
   "metadata": {},
   "outputs": [
    {
     "name": "stdout",
     "output_type": "stream",
     "text": [
      "Time per gesture: 0.000125 s\n",
      "Accuracy: 0.9719753310357337\n",
      "              precision    recall  f1-score   support\n",
      "\n",
      "     I index       0.98      0.97      0.97       217\n",
      "          My       0.98      0.96      0.97       230\n",
      "         You       0.98      0.98      0.98       231\n",
      "        Your       0.98      0.95      0.97       236\n",
      "          In       0.93      0.98      0.95       233\n",
      "          To       1.00      0.99      0.99       222\n",
      "        With       0.98      0.97      0.97       234\n",
      "         Yes       0.97      0.99      0.98       222\n",
      "          No       0.99      0.95      0.97       230\n",
      "        Well       0.97      1.00      0.98       249\n",
      "  I love you       0.95      0.96      0.95       229\n",
      "    Oh I see       0.98      0.96      0.97       238\n",
      "        Name       0.98      1.00      0.99       201\n",
      "         Hug       0.98      0.99      0.98       231\n",
      "    Internet       0.99      0.99      0.99       219\n",
      "         Bus       0.98      1.00      0.99       213\n",
      "       Money       0.99      1.00      0.99       220\n",
      "        Work       0.98      1.00      0.99       238\n",
      "         Ask       0.99      0.99      0.99       223\n",
      "          Go       0.98      0.97      0.98       230\n",
      "        Look       0.98      0.98      0.98       226\n",
      "        Have       0.97      1.00      0.98       228\n",
      "     Correct       1.00      1.00      1.00       211\n",
      "        Want       0.99      0.99      0.99       216\n",
      "           A       0.96      0.97      0.96       234\n",
      "           B       0.96      1.00      0.98       233\n",
      "           C       0.98      0.98      0.98       220\n",
      "           D       0.96      0.98      0.97       221\n",
      "           E       0.98      0.95      0.96       217\n",
      "           F       0.98      0.98      0.98       238\n",
      "           G       0.98      0.98      0.98       233\n",
      "           H       0.98      0.95      0.96       220\n",
      "           I       0.97      0.96      0.96       251\n",
      "           K       0.96      0.98      0.97       217\n",
      "           L       0.94      0.94      0.94       226\n",
      "           M       0.98      0.92      0.95       213\n",
      "           N       0.97      0.98      0.97       218\n",
      "           O       0.96      0.96      0.96       228\n",
      "           P       0.98      0.97      0.97       229\n",
      "           Q       0.96      0.96      0.96       219\n",
      "           R       0.91      0.96      0.93       202\n",
      "           S       0.98      0.99      0.98       215\n",
      "           T       0.98      0.98      0.98       215\n",
      "           U       0.97      0.93      0.95       221\n",
      "           V       0.99      0.94      0.96       249\n",
      "           W       0.94      0.97      0.96       219\n",
      "           X       0.97      0.97      0.97       220\n",
      "           Y       0.96      0.99      0.97       230\n",
      "         N-A       0.96      0.90      0.93       211\n",
      "\n",
      "    accuracy                           0.97     11026\n",
      "   macro avg       0.97      0.97      0.97     11026\n",
      "weighted avg       0.97      0.97      0.97     11026\n",
      "\n"
     ]
    }
   ],
   "source": [
    "# Evaluate the classifier on the test dataset\n",
    "start = default_timer()\n",
    "rfc_predictions = rfc.predict(test_X)\n",
    "\n",
    "print(\"Time per gesture:\", str(round((default_timer() - start) / (test_X.shape[0]), 6)) + \" s\")\n",
    "print(\"Accuracy:\", accuracy_score(test_y, rfc_predictions))\n",
    "print(classification_report(test_y,\n",
    "                            rfc_predictions,\n",
    "                            target_names=gestures))"
   ]
  },
  {
   "cell_type": "code",
   "execution_count": 21,
   "id": "bb582874",
   "metadata": {},
   "outputs": [
    {
     "data": {
      "text/plain": [
       "(array([ 0,  1,  2,  3,  4,  5,  6,  7,  8,  9, 10, 11, 12, 13, 14, 15, 16,\n",
       "        17, 18, 19, 20, 21, 22, 23, 24, 25, 26, 27, 28, 29, 30, 31, 32, 33,\n",
       "        34, 35, 36, 37, 38, 39, 40, 41, 42, 43, 44, 45, 46, 47, 48]),\n",
       " array([215, 226, 232, 228, 247, 220, 232, 225, 221, 258, 230, 233, 205,\n",
       "        234, 218, 216, 223, 243, 223, 227, 225, 235, 212, 217, 237, 243,\n",
       "        219, 225, 210, 237, 233, 214, 247, 221, 226, 201, 219, 230, 227,\n",
       "        220, 212, 216, 216, 212, 236, 226, 221, 236, 197], dtype=int64))"
      ]
     },
     "execution_count": 21,
     "metadata": {},
     "output_type": "execute_result"
    }
   ],
   "source": [
    "np.unique(rfc_predictions, return_counts=True)"
   ]
  },
  {
   "cell_type": "code",
   "execution_count": 22,
   "id": "24858d64",
   "metadata": {},
   "outputs": [
    {
     "data": {
      "text/plain": [
       "(array([ 0,  1,  2,  3,  4,  5,  6,  7,  8,  9, 10, 11, 12, 13, 14, 15, 16,\n",
       "        17, 18, 19, 20, 21, 22, 23, 24, 25, 26, 27, 28, 29, 30, 31, 32, 33,\n",
       "        34, 35, 36, 37, 38, 39, 40, 41, 42, 43, 44, 45, 46, 47, 48]),\n",
       " array([217, 230, 231, 236, 233, 222, 234, 222, 230, 249, 229, 238, 201,\n",
       "        231, 219, 213, 220, 238, 223, 230, 226, 228, 211, 216, 234, 233,\n",
       "        220, 221, 217, 238, 233, 220, 251, 217, 226, 213, 218, 228, 229,\n",
       "        219, 202, 215, 215, 221, 249, 219, 220, 230, 211], dtype=int64))"
      ]
     },
     "execution_count": 22,
     "metadata": {},
     "output_type": "execute_result"
    }
   ],
   "source": [
    "np.unique(test_y, return_counts=True)"
   ]
  },
  {
   "cell_type": "code",
   "execution_count": 71,
   "id": "18115050",
   "metadata": {},
   "outputs": [],
   "source": [
    "import os\n",
    "import re\n",
    "import warnings\n",
    "import numpy as np\n",
    "import cv2\n",
    "import tensorflow as tf\n",
    "from timeit import default_timer\n",
    "from utils import create_rectangle, get_dictionary\n",
    "\n",
    "\n",
    "def showcase_model(gesture_list, examples=\"Examples\", predict=False,\n",
    "                   model=None, translations=\"translations.txt\", img_size=196):\n",
    "\n",
    "    # The rectangle in the frame that is cropped from the web camera image\n",
    "    # (one for torso location, one for fingerspelling location)\n",
    "    rect_size = int(img_size * 1.25) + 4\n",
    "    rect_torso = create_rectangle((225, 225), rect_size, rect_size)\n",
    "    rect_fingerspell_1 = create_rectangle((50, 50), rect_size, rect_size)\n",
    "    rect_fingerspell_2 = create_rectangle((350, 50), rect_size, rect_size)\n",
    "    rect = rect_torso\n",
    "\n",
    "    # Naive solution to allow looping through the gestures in prediction environment\n",
    "\n",
    "    # Encapsulate the whole process to be able to close cameras in case of error\n",
    "    try:\n",
    "\n",
    "        cap = cv2.VideoCapture(0, cv2.CAP_DSHOW)\n",
    "\n",
    "        # Establish the windows and place them accordingly\n",
    "        cv2.namedWindow(\"Camera view\")\n",
    "        cv2.resizeWindow(\"Camera view\", 800, 600)\n",
    "        cv2.moveWindow(\"Camera view\", 25, 150)\n",
    "\n",
    "        cv2.namedWindow(\"Example\")\n",
    "        cv2.resizeWindow(\"Example\", 640, 480)\n",
    "        cv2.moveWindow(\"Example\", 850, 230)\n",
    "\n",
    "        lang = True  # To let the user change language, True stands for English, False for Czech\n",
    "        rectangle_position = 0  # Which position of the rectangle to use\n",
    "        pause_flag = False  # Enable the user to pause the process\n",
    "\n",
    "        # Perform the data collecting process for each gesture in the given gesture list\n",
    "        for gesture in gesture_list:\n",
    "\n",
    "            # Initialize necessary variables (different per gesture)\n",
    "            flag = 0  # To know when a new gesture is being taken for the first time\n",
    "            exit_flag = 0  # To let the user end the process early by clicking the \"Esc\" key\n",
    "\n",
    "            # Continue until the user terminates the process\n",
    "            while True:\n",
    "                ret, frame = cap.read()\n",
    "\n",
    "                # Check validity and avoid mirroring if frame is present\n",
    "                if not ret:\n",
    "                    print(\"There has been a problem retrieving your frame\")\n",
    "                    print(\"Try adjusting the camera number in specification of cap (default 0)\")\n",
    "                    break\n",
    "                frame = cv2.flip(frame, 1)\n",
    "\n",
    "                # End the process for the current gesture in case the \"q\" key is hit\n",
    "                key = cv2.waitKey(1)\n",
    "                if key == ord(\"q\"):\n",
    "                    break\n",
    "\n",
    "                # End the whole process in case the \"Esc\" key is hit\n",
    "                if key == ord(\"\\x1b\"):\n",
    "                    exit_flag = 1\n",
    "                    break\n",
    "\n",
    "                # Change language settings in case the \"l\" key is hit\n",
    "                if key == ord(\"l\"):\n",
    "                    lang = not lang\n",
    "\n",
    "                # Pause the process if the \"p\" key is hit\n",
    "                if key == ord(\"p\"):\n",
    "                    pause_flag = not pause_flag\n",
    "\n",
    "                # Change the rectangle position if the \"spacebar\" key is hit\n",
    "                if key == ord(\" \"):\n",
    "                    rectangle_position += 1\n",
    "                    rect = [rect_torso, rect_fingerspell_1, rect_fingerspell_2][rectangle_position % 3]\n",
    "\n",
    "                # Create rectangle cut\n",
    "                frame_cut = frame[(rect[0][1] + 2):(rect[2][1] - 2),\n",
    "                                  (rect[0][0] + 2):(rect[1][0] - 2)]\n",
    "                frame_cut = cv2.resize(frame_cut, (img_size, img_size))\n",
    "\n",
    "                # Adjust the color of the text and frame based on the current state\n",
    "                # Green - running model prediction, Orange - model prediction is paused\n",
    "                if pause_flag:\n",
    "                    color = (0, 128, 255)\n",
    "                else:\n",
    "                    color = (0, 255, 0)\n",
    "\n",
    "                # Live view with frame and text (colorcoded as specified above)\n",
    "                cv2.rectangle(frame, rect[0], rect[3], color, 2)\n",
    "                # Add information about prediction if expected, otherwise just show the name of the gesture\n",
    "                if predict and not pause_flag:\n",
    "                    pred_time_start = default_timer()\n",
    "                    predict_frame = np.reshape(preprocessing(resize(frame_cut[None, :])).numpy()[0, :, :, 0], [1, -1])\n",
    "                    prediction = model.predict(predict_frame)\n",
    "                    #probability = prediction.max(axis=-1).round(2)\n",
    "                    txt = gesture_list[prediction[0]]\n",
    "                    pred_time = round(default_timer() - pred_time_start, 3)\n",
    "                    if not lang:\n",
    "                        txt = dictionary[txt]\n",
    "                    #txt += \" (\" + str(probability[0]) + \")\"\n",
    "\n",
    "                    # Display average time per gesture\n",
    "                    cv2.putText(frame, \"TPG: \" + str(pred_time) + \" s\", (5, 470),\n",
    "                                cv2.FONT_HERSHEY_DUPLEX, 0.8, color, 2)\n",
    "                else:\n",
    "                    txt = gesture\n",
    "                    if not lang:\n",
    "                        txt = dictionary[txt]\n",
    "                cv2.putText(frame, txt, (rect[0][0], rect[0][1] - 15),\n",
    "                            cv2.FONT_HERSHEY_DUPLEX, 1, color, 2)\n",
    "                cv2.imshow(\"Camera view\", cv2.resize(frame, (800, 600)))\n",
    "\n",
    "                # Show example on new gesture\n",
    "                if not flag:\n",
    "                    example = cv2.imread(f\"{os.path.join(examples, gesture)}\" + \".jpg\")\n",
    "                    cv2.imshow(\"Example\", cv2.resize(example, (640, 480)))\n",
    "                    flag = 1\n",
    "\n",
    "            if exit_flag:\n",
    "                break\n",
    "\n",
    "    # Close the camera and all windows in case of unexpected fatality\n",
    "    finally:\n",
    "        cap.release()\n",
    "        cv2.destroyAllWindows()"
   ]
  },
  {
   "cell_type": "code",
   "execution_count": 32,
   "id": "3c89fd78",
   "metadata": {},
   "outputs": [],
   "source": [
    "gestures = \"I index, My, You, Your, In, To, With, Yes, No, Well, I love you, Oh I see, Name, Hug, Internet, Bus, Money, Work, Ask, Go, Look, Have, Correct, Want, A, B, C, D, E, F, G, H, I, K, L, M, N, O, P, Q, R, S, T, U, V, W, X, Y, N-A\".split(\", \")"
   ]
  },
  {
   "cell_type": "code",
   "execution_count": 72,
   "id": "1df99368",
   "metadata": {},
   "outputs": [],
   "source": [
    "showcase_model(gestures, predict=True, model=knn)"
   ]
  }
 ],
 "metadata": {
  "kernelspec": {
   "display_name": "Python 3 (ipykernel)",
   "language": "python",
   "name": "python3"
  },
  "language_info": {
   "codemirror_mode": {
    "name": "ipython",
    "version": 3
   },
   "file_extension": ".py",
   "mimetype": "text/x-python",
   "name": "python",
   "nbconvert_exporter": "python",
   "pygments_lexer": "ipython3",
   "version": "3.10.9"
  }
 },
 "nbformat": 4,
 "nbformat_minor": 5
}

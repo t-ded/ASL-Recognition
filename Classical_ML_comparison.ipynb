{
 "cells": [
  {
   "cell_type": "markdown",
   "id": "5a71ac7b",
   "metadata": {},
   "source": [
    "<h1>Dataset Preprocessing to Enable Application of Classical ML Models</h1>"
   ]
  },
  {
   "cell_type": "code",
   "execution_count": 1,
   "id": "250cc579",
   "metadata": {},
   "outputs": [],
   "source": [
    "import json\n",
    "from timeit import default_timer"
   ]
  },
  {
   "cell_type": "code",
   "execution_count": 2,
   "id": "e8a40f7e",
   "metadata": {},
   "outputs": [],
   "source": [
    "import numpy as np\n",
    "import tensorflow as tf"
   ]
  },
  {
   "cell_type": "code",
   "execution_count": 3,
   "id": "1d153247",
   "metadata": {},
   "outputs": [],
   "source": [
    "from model.model import build_preprocessing"
   ]
  },
  {
   "cell_type": "code",
   "execution_count": 4,
   "id": "368d83c2",
   "metadata": {},
   "outputs": [],
   "source": [
    "# Load configuration file from json in the given folder\n",
    "with open(\"config.json\", \"r\") as config_file:\n",
    "    config = json.load(config_file)"
   ]
  },
  {
   "cell_type": "code",
   "execution_count": 5,
   "id": "e649e989",
   "metadata": {},
   "outputs": [],
   "source": [
    "# Set up the list of gestures\n",
    "with open(config[\"Paths\"][\"Gesture list\"], \"r\") as gesture_list:\n",
    "    gestures = gesture_list.readlines()[0].split(\", \")"
   ]
  },
  {
   "cell_type": "code",
   "execution_count": 6,
   "id": "49cc51b7",
   "metadata": {},
   "outputs": [],
   "source": [
    "img_size = config[\"General parameters\"][\"Image size\"]"
   ]
  },
  {
   "cell_type": "code",
   "execution_count": 35,
   "id": "49925073",
   "metadata": {},
   "outputs": [
    {
     "name": "stdout",
     "output_type": "stream",
     "text": [
      "Found 93239 files belonging to 49 classes.\n",
      "Using 65268 files for training.\n",
      "Using 27971 files for validation.\n"
     ]
    }
   ],
   "source": [
    "train_images, test_images = tf.keras.preprocessing.image_dataset_from_directory(\"Data\",\n",
    "                                                                                labels=\"inferred\",\n",
    "                                                                                label_mode=\"int\",\n",
    "                                                                                class_names=gestures,\n",
    "                                                                                color_mode=\"rgb\",\n",
    "                                                                                batch_size=128,\n",
    "                                                                                image_size=(img_size,\n",
    "                                                                                            img_size),\n",
    "                                                                                shuffle=True,\n",
    "                                                                                seed=45,\n",
    "                                                                                validation_split=0.3,\n",
    "                                                                                subset=\"both\")"
   ]
  },
  {
   "cell_type": "code",
   "execution_count": 11,
   "id": "bf1a7bb0",
   "metadata": {},
   "outputs": [],
   "source": [
    "# Set the default preprocessing pipeline if not specified\n",
    "preprocessing_layers = config[\"Model\"][\"Default preprocessing\"]\n",
    "preprocessing_layers = \"I,G,R\"\n",
    "\n",
    "# Build the preprocessing pipeline according to given instructions\n",
    "preprocessing = build_preprocessing(inp_shape=[img_size,\n",
    "                                               img_size,\n",
    "                                               3],\n",
    "                                    instructions=preprocessing_layers,\n",
    "                                    name=\"preprocessing_pipeline\")"
   ]
  },
  {
   "cell_type": "code",
   "execution_count": 9,
   "id": "f2e0ad5b",
   "metadata": {},
   "outputs": [
    {
     "name": "stdout",
     "output_type": "stream",
     "text": [
      "WARNING:tensorflow:From C:\\Users\\tomas\\anaconda3\\envs\\asl\\lib\\site-packages\\tensorflow\\python\\autograph\\pyct\\static_analysis\\liveness.py:83: Analyzer.lamba_check (from tensorflow.python.autograph.pyct.static_analysis.liveness) is deprecated and will be removed after 2023-09-23.\n",
      "Instructions for updating:\n",
      "Lambda fuctions will be no more assumed to be used in the statement where they are used, or at least in the same block. https://github.com/tensorflow/tensorflow/issues/56089\n"
     ]
    }
   ],
   "source": [
    "# Apply the same preprocessing steps as for the CNN but flatten the images\n",
    "channels = 1 if \"G\" in preprocessing_layers else 3\n",
    "train_images = train_images.map(lambda x, y: (tf.reshape(preprocessing(x), [-1, img_size ** 2 * channels]), y), num_parallel_calls=tf.data.AUTOTUNE, deterministic=True).unbatch()\n",
    "test_images = test_images.map(lambda x, y: (tf.reshape(preprocessing(x), [-1, img_size ** 2 * channels]), y), num_parallel_calls=tf.data.AUTOTUNE, deterministic=True).unbatch()"
   ]
  },
  {
   "cell_type": "code",
   "execution_count": 10,
   "id": "b983cb05",
   "metadata": {},
   "outputs": [],
   "source": [
    "# Convert the tf.data.Datasets to numpy arrays containing image & label per sample\n",
    "train_images = np.array(list(train_images.as_numpy_iterator()), dtype=tuple)\n",
    "test_images = np.array(list(test_images.as_numpy_iterator()), dtype=tuple)"
   ]
  },
  {
   "cell_type": "code",
   "execution_count": 11,
   "id": "8daeada4",
   "metadata": {},
   "outputs": [
    {
     "ename": "MemoryError",
     "evalue": "Unable to allocate 9.34 GiB for an array with shape (65268, 38416) and data type float32",
     "output_type": "error",
     "traceback": [
      "\u001b[1;31m---------------------------------------------------------------------------\u001b[0m",
      "\u001b[1;31mMemoryError\u001b[0m                               Traceback (most recent call last)",
      "\u001b[1;32m~\\AppData\\Local\\Temp\\ipykernel_11316\\2311395601.py\u001b[0m in \u001b[0;36m<module>\u001b[1;34m\u001b[0m\n\u001b[0;32m      1\u001b[0m \u001b[1;31m# Extract the images and the labels separately\u001b[0m\u001b[1;33m\u001b[0m\u001b[1;33m\u001b[0m\u001b[0m\n\u001b[1;32m----> 2\u001b[1;33m \u001b[0mtrain_X\u001b[0m\u001b[1;33m,\u001b[0m \u001b[0mtrain_y\u001b[0m \u001b[1;33m=\u001b[0m \u001b[0mnp\u001b[0m\u001b[1;33m.\u001b[0m\u001b[0marray\u001b[0m\u001b[1;33m(\u001b[0m\u001b[1;33m[\u001b[0m\u001b[0melement\u001b[0m\u001b[1;33m[\u001b[0m\u001b[1;36m0\u001b[0m\u001b[1;33m]\u001b[0m \u001b[1;32mfor\u001b[0m \u001b[0melement\u001b[0m \u001b[1;32min\u001b[0m \u001b[0mtrain_images\u001b[0m\u001b[1;33m]\u001b[0m\u001b[1;33m)\u001b[0m\u001b[1;33m,\u001b[0m \u001b[0mnp\u001b[0m\u001b[1;33m.\u001b[0m\u001b[0mravel\u001b[0m\u001b[1;33m(\u001b[0m\u001b[0mnp\u001b[0m\u001b[1;33m.\u001b[0m\u001b[0mvstack\u001b[0m\u001b[1;33m(\u001b[0m\u001b[1;33m[\u001b[0m\u001b[0melement\u001b[0m\u001b[1;33m[\u001b[0m\u001b[1;36m1\u001b[0m\u001b[1;33m]\u001b[0m \u001b[1;32mfor\u001b[0m \u001b[0melement\u001b[0m \u001b[1;32min\u001b[0m \u001b[0mtrain_images\u001b[0m\u001b[1;33m]\u001b[0m\u001b[1;33m)\u001b[0m\u001b[1;33m)\u001b[0m\u001b[1;33m\u001b[0m\u001b[1;33m\u001b[0m\u001b[0m\n\u001b[0m\u001b[0;32m      3\u001b[0m \u001b[0mtest_X\u001b[0m\u001b[1;33m,\u001b[0m \u001b[0mtest_y\u001b[0m \u001b[1;33m=\u001b[0m \u001b[0mnp\u001b[0m\u001b[1;33m.\u001b[0m\u001b[0marray\u001b[0m\u001b[1;33m(\u001b[0m\u001b[1;33m[\u001b[0m\u001b[0melement\u001b[0m\u001b[1;33m[\u001b[0m\u001b[1;36m0\u001b[0m\u001b[1;33m]\u001b[0m \u001b[1;32mfor\u001b[0m \u001b[0melement\u001b[0m \u001b[1;32min\u001b[0m \u001b[0mtest_images\u001b[0m\u001b[1;33m]\u001b[0m\u001b[1;33m)\u001b[0m\u001b[1;33m,\u001b[0m \u001b[0mnp\u001b[0m\u001b[1;33m.\u001b[0m\u001b[0mravel\u001b[0m\u001b[1;33m(\u001b[0m\u001b[0mnp\u001b[0m\u001b[1;33m.\u001b[0m\u001b[0mvstack\u001b[0m\u001b[1;33m(\u001b[0m\u001b[1;33m[\u001b[0m\u001b[0melement\u001b[0m\u001b[1;33m[\u001b[0m\u001b[1;36m1\u001b[0m\u001b[1;33m]\u001b[0m \u001b[1;32mfor\u001b[0m \u001b[0melement\u001b[0m \u001b[1;32min\u001b[0m \u001b[0mtest_images\u001b[0m\u001b[1;33m]\u001b[0m\u001b[1;33m)\u001b[0m\u001b[1;33m)\u001b[0m\u001b[1;33m\u001b[0m\u001b[1;33m\u001b[0m\u001b[0m\n",
      "\u001b[1;31mMemoryError\u001b[0m: Unable to allocate 9.34 GiB for an array with shape (65268, 38416) and data type float32"
     ]
    }
   ],
   "source": [
    "# Extract the images and the labels separately\n",
    "train_X, train_y = np.array([element[0] for element in train_images]), np.ravel(np.vstack([element[1] for element in train_images]))\n",
    "test_X, test_y = np.array([element[0] for element in test_images]), np.ravel(np.vstack([element[1] for element in test_images]))"
   ]
  },
  {
   "cell_type": "code",
   "execution_count": null,
   "id": "4206575f",
   "metadata": {},
   "outputs": [],
   "source": [
    "# Check memory consumption for the training dataset\n",
    "print(\"Training dataset memory consumption: {:.1f}MB\".format(train_X.nbytes / (1024 * 1024.0)))"
   ]
  },
  {
   "cell_type": "markdown",
   "id": "b437dcf4",
   "metadata": {},
   "source": [
    "<h1>k-NN Gesture Classification</h1>"
   ]
  },
  {
   "cell_type": "code",
   "execution_count": null,
   "id": "195314ee",
   "metadata": {},
   "outputs": [],
   "source": [
    "import matplotlib.pyplot as plt\n",
    "import seaborn as sb\n",
    "from sklearn.neighbors import KNeighborsClassifier\n",
    "from sklearn.metrics import classification_report, accuracy_score\n",
    "from sklearn.model_selection import GridSearchCV"
   ]
  },
  {
   "cell_type": "code",
   "execution_count": null,
   "id": "05968405",
   "metadata": {
    "scrolled": true
   },
   "outputs": [],
   "source": [
    "# Initialize and train the k-NN classifier with parameters obtained from grid search\n",
    "knn = KNeighborsClassifier(n_neighbors=3,\n",
    "                           p=2,\n",
    "                           n_jobs=-1)\n",
    "knn.fit(train_X, train_y)"
   ]
  },
  {
   "cell_type": "code",
   "execution_count": null,
   "id": "5c91fd8e",
   "metadata": {},
   "outputs": [],
   "source": [
    "# Evaluate the classifier on the test dataset\n",
    "start = default_timer()\n",
    "knn_predictions = knn.predict(test_X)\n",
    "\n",
    "print(\"Time per gesture:\", str(round((default_timer() - start) / (test_X.shape[0]), 5)) + \" s\")\n",
    "print(\"Accuracy:\", accuracy_score(test_y, knn_predictions))\n",
    "print(classification_report(test_y,\n",
    "                            knn_predictions,\n",
    "                            target_names=gestures))"
   ]
  },
  {
   "cell_type": "code",
   "execution_count": null,
   "id": "48e6677f",
   "metadata": {},
   "outputs": [],
   "source": [
    "np.unique(knn_predictions, return_counts=True)"
   ]
  },
  {
   "cell_type": "code",
   "execution_count": null,
   "id": "cb794d0f",
   "metadata": {},
   "outputs": [],
   "source": [
    "np.unique(test_y, return_counts=True)"
   ]
  },
  {
   "cell_type": "markdown",
   "id": "b29b01ec",
   "metadata": {},
   "source": [
    "<h1>Decision Tree Gesture Classification</h1>"
   ]
  },
  {
   "cell_type": "code",
   "execution_count": null,
   "id": "d089be1a",
   "metadata": {},
   "outputs": [],
   "source": [
    "import matplotlib.pyplot as plt\n",
    "import seaborn as sb\n",
    "from sklearn.ensemble import RandomForestClassifier\n",
    "from sklearn.metrics import classification_report, accuracy_score\n",
    "from sklearn.model_selection import GridSearchCV"
   ]
  },
  {
   "cell_type": "code",
   "execution_count": null,
   "id": "8b241621",
   "metadata": {},
   "outputs": [],
   "source": [
    "# Initialize and train the Random Forest classifier with parameters obtained from grid search\n",
    "rfc = RandomForestClassifier(n_estimators=100,\n",
    "                             max_depth=55,\n",
    "                             min_samples_split=5,\n",
    "                             n_jobs=-1)\n",
    "rfc.fit(train_X, train_y)"
   ]
  },
  {
   "cell_type": "code",
   "execution_count": null,
   "id": "ae7747d5",
   "metadata": {},
   "outputs": [],
   "source": [
    "# Evaluate the classifier on the test dataset\n",
    "start = default_timer()\n",
    "rfc_predictions = rfc.predict(test_X)\n",
    "\n",
    "print(\"Time per gesture:\", str(round((default_timer() - start) / (test_X.shape[0]), 6)) + \" s\")\n",
    "print(\"Accuracy:\", accuracy_score(test_y, rfc_predictions))\n",
    "print(classification_report(test_y,\n",
    "                            rfc_predictions,\n",
    "                            target_names=gestures))"
   ]
  },
  {
   "cell_type": "code",
   "execution_count": null,
   "id": "bb582874",
   "metadata": {},
   "outputs": [],
   "source": [
    "np.unique(rfc_predictions, return_counts=True)"
   ]
  },
  {
   "cell_type": "code",
   "execution_count": null,
   "id": "24858d64",
   "metadata": {},
   "outputs": [],
   "source": [
    "np.unique(test_y, return_counts=True)"
   ]
  },
  {
   "cell_type": "markdown",
   "id": "b6950491",
   "metadata": {},
   "source": [
    "<h1>Real-time Analysis</h1>"
   ]
  },
  {
   "cell_type": "code",
   "execution_count": null,
   "id": "18115050",
   "metadata": {},
   "outputs": [],
   "source": [
    "import os\n",
    "import re\n",
    "import warnings\n",
    "import numpy as np\n",
    "import cv2\n",
    "import tensorflow as tf\n",
    "from timeit import default_timer\n",
    "from utils import create_rectangle, get_dictionary\n",
    "\n",
    "\n",
    "def showcase_model(gesture_list, examples=\"Examples\", predict=False,\n",
    "                   model=None, translations=\"translations.txt\", img_size=196):\n",
    "\n",
    "    # The rectangle in the frame that is cropped from the web camera image\n",
    "    # (one for torso location, one for fingerspelling location)\n",
    "    rect_size = int(img_size * 1.25) + 4\n",
    "    rect_torso = create_rectangle((225, 225), rect_size, rect_size)\n",
    "    rect_fingerspell_1 = create_rectangle((50, 50), rect_size, rect_size)\n",
    "    rect_fingerspell_2 = create_rectangle((350, 50), rect_size, rect_size)\n",
    "    rect = rect_torso\n",
    "\n",
    "    # Naive solution to allow looping through the gestures in prediction environment\n",
    "\n",
    "    # Encapsulate the whole process to be able to close cameras in case of error\n",
    "    try:\n",
    "\n",
    "        cap = cv2.VideoCapture(0, cv2.CAP_DSHOW)\n",
    "\n",
    "        # Establish the windows and place them accordingly\n",
    "        cv2.namedWindow(\"Camera view\")\n",
    "        cv2.resizeWindow(\"Camera view\", 800, 600)\n",
    "        cv2.moveWindow(\"Camera view\", 25, 150)\n",
    "\n",
    "        cv2.namedWindow(\"Example\")\n",
    "        cv2.resizeWindow(\"Example\", 640, 480)\n",
    "        cv2.moveWindow(\"Example\", 850, 230)\n",
    "\n",
    "        lang = True  # To let the user change language, True stands for English, False for Czech\n",
    "        rectangle_position = 0  # Which position of the rectangle to use\n",
    "        pause_flag = False  # Enable the user to pause the process\n",
    "\n",
    "        # Perform the data collecting process for each gesture in the given gesture list\n",
    "        for gesture in gesture_list:\n",
    "\n",
    "            # Initialize necessary variables (different per gesture)\n",
    "            flag = 0  # To know when a new gesture is being taken for the first time\n",
    "            exit_flag = 0  # To let the user end the process early by clicking the \"Esc\" key\n",
    "\n",
    "            # Continue until the user terminates the process\n",
    "            while True:\n",
    "                ret, frame = cap.read()\n",
    "\n",
    "                # Check validity and avoid mirroring if frame is present\n",
    "                if not ret:\n",
    "                    print(\"There has been a problem retrieving your frame\")\n",
    "                    print(\"Try adjusting the camera number in specification of cap (default 0)\")\n",
    "                    break\n",
    "                frame = cv2.flip(frame, 1)\n",
    "\n",
    "                # End the process for the current gesture in case the \"q\" key is hit\n",
    "                key = cv2.waitKey(1)\n",
    "                if key == ord(\"q\"):\n",
    "                    break\n",
    "\n",
    "                # End the whole process in case the \"Esc\" key is hit\n",
    "                if key == ord(\"\\x1b\"):\n",
    "                    exit_flag = 1\n",
    "                    break\n",
    "\n",
    "                # Change language settings in case the \"l\" key is hit\n",
    "                if key == ord(\"l\"):\n",
    "                    lang = not lang\n",
    "\n",
    "                # Pause the process if the \"p\" key is hit\n",
    "                if key == ord(\"p\"):\n",
    "                    pause_flag = not pause_flag\n",
    "\n",
    "                # Change the rectangle position if the \"spacebar\" key is hit\n",
    "                if key == ord(\" \"):\n",
    "                    rectangle_position += 1\n",
    "                    rect = [rect_torso, rect_fingerspell_1, rect_fingerspell_2][rectangle_position % 3]\n",
    "\n",
    "                # Create rectangle cut\n",
    "                frame_cut = frame[(rect[0][1] + 2):(rect[2][1] - 2),\n",
    "                                  (rect[0][0] + 2):(rect[1][0] - 2)]\n",
    "                frame_cut = cv2.resize(frame_cut, (img_size, img_size))\n",
    "\n",
    "                # Adjust the color of the text and frame based on the current state\n",
    "                # Green - running model prediction, Orange - model prediction is paused\n",
    "                if pause_flag:\n",
    "                    color = (0, 128, 255)\n",
    "                else:\n",
    "                    color = (0, 255, 0)\n",
    "\n",
    "                # Live view with frame and text (colorcoded as specified above)\n",
    "                cv2.rectangle(frame, rect[0], rect[3], color, 2)\n",
    "                # Add information about prediction if expected, otherwise just show the name of the gesture\n",
    "                if predict and not pause_flag:\n",
    "                    pred_time_start = default_timer()\n",
    "                    predict_frame = np.reshape(preprocessing(resize(frame_cut[None, :])).numpy()[0, :, :, 0], [1, -1])\n",
    "                    prediction = model.predict(predict_frame)\n",
    "                    #probability = prediction.max(axis=-1).round(2)\n",
    "                    txt = gesture_list[prediction[0]]\n",
    "                    pred_time = round(default_timer() - pred_time_start, 3)\n",
    "                    if not lang:\n",
    "                        txt = dictionary[txt]\n",
    "                    #txt += \" (\" + str(probability[0]) + \")\"\n",
    "\n",
    "                    # Display average time per gesture\n",
    "                    cv2.putText(frame, \"TPG: \" + str(pred_time) + \" s\", (5, 470),\n",
    "                                cv2.FONT_HERSHEY_DUPLEX, 0.8, color, 2)\n",
    "                else:\n",
    "                    txt = gesture\n",
    "                    if not lang:\n",
    "                        txt = dictionary[txt]\n",
    "                cv2.putText(frame, txt, (rect[0][0], rect[0][1] - 15),\n",
    "                            cv2.FONT_HERSHEY_DUPLEX, 1, color, 2)\n",
    "                cv2.imshow(\"Camera view\", cv2.resize(frame, (800, 600)))\n",
    "\n",
    "                # Show example on new gesture\n",
    "                if not flag:\n",
    "                    example = cv2.imread(f\"{os.path.join(examples, gesture)}\" + \".jpg\")\n",
    "                    cv2.imshow(\"Example\", cv2.resize(example, (640, 480)))\n",
    "                    flag = 1\n",
    "\n",
    "            if exit_flag:\n",
    "                break\n",
    "\n",
    "    # Close the camera and all windows in case of unexpected fatality\n",
    "    finally:\n",
    "        cap.release()\n",
    "        cv2.destroyAllWindows()"
   ]
  },
  {
   "cell_type": "code",
   "execution_count": null,
   "id": "3c89fd78",
   "metadata": {},
   "outputs": [],
   "source": [
    "gestures = \"I index, My, You, Your, In, To, With, Yes, No, Well, I love you, Oh I see, Name, Hug, Internet, Bus, Money, Work, Ask, Go, Look, Have, Correct, Want, A, B, C, D, E, F, G, H, I, K, L, M, N, O, P, Q, R, S, T, U, V, W, X, Y, N-A\".split(\", \")"
   ]
  },
  {
   "cell_type": "code",
   "execution_count": null,
   "id": "1df99368",
   "metadata": {},
   "outputs": [],
   "source": [
    "showcase_model(gestures, predict=True, model=knn)"
   ]
  }
 ],
 "metadata": {
  "kernelspec": {
   "display_name": "Python 3 (ipykernel)",
   "language": "python",
   "name": "python3"
  },
  "language_info": {
   "codemirror_mode": {
    "name": "ipython",
    "version": 3
   },
   "file_extension": ".py",
   "mimetype": "text/x-python",
   "name": "python",
   "nbconvert_exporter": "python",
   "pygments_lexer": "ipython3",
   "version": "3.10.9"
  }
 },
 "nbformat": 4,
 "nbformat_minor": 5
}

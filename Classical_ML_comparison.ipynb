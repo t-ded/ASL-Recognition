{
 "cells": [
  {
   "cell_type": "markdown",
   "id": "5a71ac7b",
   "metadata": {},
   "source": [
    "<h1>Dataset Preprocessing to Enable Application of Classical ML Models</h1>"
   ]
  },
  {
   "cell_type": "code",
   "execution_count": 1,
   "id": "250cc579",
   "metadata": {},
   "outputs": [],
   "source": [
    "import json"
   ]
  },
  {
   "cell_type": "code",
   "execution_count": 2,
   "id": "e8a40f7e",
   "metadata": {},
   "outputs": [],
   "source": [
    "import numpy as np\n",
    "import tensorflow as tf"
   ]
  },
  {
   "cell_type": "code",
   "execution_count": 3,
   "id": "1d153247",
   "metadata": {},
   "outputs": [],
   "source": [
    "from model.model import build_preprocessing"
   ]
  },
  {
   "cell_type": "code",
   "execution_count": 4,
   "id": "368d83c2",
   "metadata": {},
   "outputs": [],
   "source": [
    "# Load configuration file from json in the given folder\n",
    "with open(\"config.json\", \"r\") as config_file:\n",
    "    config = json.load(config_file)"
   ]
  },
  {
   "cell_type": "code",
   "execution_count": 5,
   "id": "e649e989",
   "metadata": {},
   "outputs": [],
   "source": [
    "# Set up the list of gestures\n",
    "with open(config[\"Paths\"][\"Gesture list\"], \"r\") as gesture_list:\n",
    "    gestures = gesture_list.readlines()[0].split(\", \")"
   ]
  },
  {
   "cell_type": "code",
   "execution_count": 6,
   "id": "49cc51b7",
   "metadata": {},
   "outputs": [],
   "source": [
    "img_size = config[\"General parameters\"][\"Image size\"]"
   ]
  },
  {
   "cell_type": "code",
   "execution_count": 7,
   "id": "49925073",
   "metadata": {},
   "outputs": [
    {
     "name": "stdout",
     "output_type": "stream",
     "text": [
      "Found 26351 files belonging to 49 classes.\n",
      "Using 21081 files for training.\n",
      "Using 5270 files for validation.\n"
     ]
    }
   ],
   "source": [
    "train_images, test_images = tf.keras.preprocessing.image_dataset_from_directory(\"Data\",\n",
    "                                                                                labels=\"inferred\",\n",
    "                                                                                label_mode=\"int\",\n",
    "                                                                                class_names=gestures,\n",
    "                                                                                color_mode=\"rgb\",\n",
    "                                                                                batch_size=128,\n",
    "                                                                                image_size=(img_size,\n",
    "                                                                                            img_size),\n",
    "                                                                                shuffle=True,\n",
    "                                                                                seed=42,\n",
    "                                                                                validation_split=0.2,\n",
    "                                                                                subset=\"both\")"
   ]
  },
  {
   "cell_type": "code",
   "execution_count": 8,
   "id": "bf1a7bb0",
   "metadata": {},
   "outputs": [],
   "source": [
    "# Set the default preprocessing pipeline if not specified\n",
    "preprocessing_layers = config[\"Model\"][\"Default preprocessing\"]\n",
    "preprocessing_layers = \"I,G,R\"\n",
    "\n",
    "# Build the preprocessing pipeline according to given instructions\n",
    "img_size = 64\n",
    "resize = tf.keras.layers.Resizing(img_size, img_size)\n",
    "preprocessing = build_preprocessing(inp_shape=[img_size,\n",
    "                                               img_size,\n",
    "                                               3],\n",
    "                                    instructions=preprocessing_layers,\n",
    "                                    name=\"preprocessing_pipeline\")"
   ]
  },
  {
   "cell_type": "code",
   "execution_count": 9,
   "id": "f2e0ad5b",
   "metadata": {},
   "outputs": [
    {
     "name": "stdout",
     "output_type": "stream",
     "text": [
      "WARNING:tensorflow:From C:\\Users\\tomas\\anaconda3\\envs\\asl\\lib\\site-packages\\tensorflow\\python\\autograph\\pyct\\static_analysis\\liveness.py:83: Analyzer.lamba_check (from tensorflow.python.autograph.pyct.static_analysis.liveness) is deprecated and will be removed after 2023-09-23.\n",
      "Instructions for updating:\n",
      "Lambda fuctions will be no more assumed to be used in the statement where they are used, or at least in the same block. https://github.com/tensorflow/tensorflow/issues/56089\n"
     ]
    }
   ],
   "source": [
    "# Apply the same preprocessing steps as for the CNN but flatten the images\n",
    "channels = 1 if \"G\" in preprocessing_layers else 3\n",
    "train_images = train_images.map(lambda x, y: (tf.reshape(preprocessing(resize(x)), [-1, img_size ** 2 * channels]), y)).unbatch()\n",
    "test_images = test_images.map(lambda x, y: (tf.reshape(preprocessing(resize(x)), [-1, img_size ** 2 * channels]), y)).unbatch()"
   ]
  },
  {
   "cell_type": "code",
   "execution_count": 10,
   "id": "b983cb05",
   "metadata": {},
   "outputs": [],
   "source": [
    "# Convert the tf.data.Datasets to numpy arrays containing image & label per sample\n",
    "train_images = np.array(list(train_images.as_numpy_iterator()), dtype=tuple)\n",
    "test_images = np.array(list(test_images.as_numpy_iterator()), dtype=tuple)"
   ]
  },
  {
   "cell_type": "code",
   "execution_count": 11,
   "id": "8daeada4",
   "metadata": {},
   "outputs": [],
   "source": [
    "# Extract the images and the labels separately\n",
    "train_X, train_y = np.array([element[0] for element in train_images]), np.ravel(np.vstack([element[1] for element in train_images]))\n",
    "test_X, test_y = np.array([element[0] for element in test_images]), np.ravel(np.vstack([element[1] for element in test_images]))"
   ]
  },
  {
   "cell_type": "code",
   "execution_count": 12,
   "id": "4206575f",
   "metadata": {},
   "outputs": [
    {
     "name": "stdout",
     "output_type": "stream",
     "text": [
      "Training dataset memory consumption: 3089.3MB\n"
     ]
    }
   ],
   "source": [
    "# Check memory consumption for the training dataset\n",
    "print(\"Training dataset memory consumption: {:.1f}MB\".format(train_X.nbytes / (1024 * 1024.0)))"
   ]
  },
  {
   "cell_type": "markdown",
   "id": "b437dcf4",
   "metadata": {},
   "source": [
    "<h1>k-NN Gesture Classification</h1>"
   ]
  },
  {
   "cell_type": "code",
   "execution_count": 13,
   "id": "195314ee",
   "metadata": {},
   "outputs": [],
   "source": [
    "import matplotlib.pyplot as plt\n",
    "import seaborn as sb\n",
    "from sklearn.neighbors import KNeighborsClassifier\n",
    "from sklearn.metrics import classification_report, accuracy_score\n",
    "from sklearn.model_selection import GridSearchCV"
   ]
  },
  {
   "cell_type": "code",
   "execution_count": 14,
   "id": "05968405",
   "metadata": {
    "scrolled": true
   },
   "outputs": [
    {
     "data": {
      "text/html": [
       "<style>#sk-container-id-1 {color: black;background-color: white;}#sk-container-id-1 pre{padding: 0;}#sk-container-id-1 div.sk-toggleable {background-color: white;}#sk-container-id-1 label.sk-toggleable__label {cursor: pointer;display: block;width: 100%;margin-bottom: 0;padding: 0.3em;box-sizing: border-box;text-align: center;}#sk-container-id-1 label.sk-toggleable__label-arrow:before {content: \"▸\";float: left;margin-right: 0.25em;color: #696969;}#sk-container-id-1 label.sk-toggleable__label-arrow:hover:before {color: black;}#sk-container-id-1 div.sk-estimator:hover label.sk-toggleable__label-arrow:before {color: black;}#sk-container-id-1 div.sk-toggleable__content {max-height: 0;max-width: 0;overflow: hidden;text-align: left;background-color: #f0f8ff;}#sk-container-id-1 div.sk-toggleable__content pre {margin: 0.2em;color: black;border-radius: 0.25em;background-color: #f0f8ff;}#sk-container-id-1 input.sk-toggleable__control:checked~div.sk-toggleable__content {max-height: 200px;max-width: 100%;overflow: auto;}#sk-container-id-1 input.sk-toggleable__control:checked~label.sk-toggleable__label-arrow:before {content: \"▾\";}#sk-container-id-1 div.sk-estimator input.sk-toggleable__control:checked~label.sk-toggleable__label {background-color: #d4ebff;}#sk-container-id-1 div.sk-label input.sk-toggleable__control:checked~label.sk-toggleable__label {background-color: #d4ebff;}#sk-container-id-1 input.sk-hidden--visually {border: 0;clip: rect(1px 1px 1px 1px);clip: rect(1px, 1px, 1px, 1px);height: 1px;margin: -1px;overflow: hidden;padding: 0;position: absolute;width: 1px;}#sk-container-id-1 div.sk-estimator {font-family: monospace;background-color: #f0f8ff;border: 1px dotted black;border-radius: 0.25em;box-sizing: border-box;margin-bottom: 0.5em;}#sk-container-id-1 div.sk-estimator:hover {background-color: #d4ebff;}#sk-container-id-1 div.sk-parallel-item::after {content: \"\";width: 100%;border-bottom: 1px solid gray;flex-grow: 1;}#sk-container-id-1 div.sk-label:hover label.sk-toggleable__label {background-color: #d4ebff;}#sk-container-id-1 div.sk-serial::before {content: \"\";position: absolute;border-left: 1px solid gray;box-sizing: border-box;top: 0;bottom: 0;left: 50%;z-index: 0;}#sk-container-id-1 div.sk-serial {display: flex;flex-direction: column;align-items: center;background-color: white;padding-right: 0.2em;padding-left: 0.2em;position: relative;}#sk-container-id-1 div.sk-item {position: relative;z-index: 1;}#sk-container-id-1 div.sk-parallel {display: flex;align-items: stretch;justify-content: center;background-color: white;position: relative;}#sk-container-id-1 div.sk-item::before, #sk-container-id-1 div.sk-parallel-item::before {content: \"\";position: absolute;border-left: 1px solid gray;box-sizing: border-box;top: 0;bottom: 0;left: 50%;z-index: -1;}#sk-container-id-1 div.sk-parallel-item {display: flex;flex-direction: column;z-index: 1;position: relative;background-color: white;}#sk-container-id-1 div.sk-parallel-item:first-child::after {align-self: flex-end;width: 50%;}#sk-container-id-1 div.sk-parallel-item:last-child::after {align-self: flex-start;width: 50%;}#sk-container-id-1 div.sk-parallel-item:only-child::after {width: 0;}#sk-container-id-1 div.sk-dashed-wrapped {border: 1px dashed gray;margin: 0 0.4em 0.5em 0.4em;box-sizing: border-box;padding-bottom: 0.4em;background-color: white;}#sk-container-id-1 div.sk-label label {font-family: monospace;font-weight: bold;display: inline-block;line-height: 1.2em;}#sk-container-id-1 div.sk-label-container {text-align: center;}#sk-container-id-1 div.sk-container {/* jupyter's `normalize.less` sets `[hidden] { display: none; }` but bootstrap.min.css set `[hidden] { display: none !important; }` so we also need the `!important` here to be able to override the default hidden behavior on the sphinx rendered scikit-learn.org. See: https://github.com/scikit-learn/scikit-learn/issues/21755 */display: inline-block !important;position: relative;}#sk-container-id-1 div.sk-text-repr-fallback {display: none;}</style><div id=\"sk-container-id-1\" class=\"sk-top-container\"><div class=\"sk-text-repr-fallback\"><pre>KNeighborsClassifier(n_jobs=-1, n_neighbors=1, p=1)</pre><b>In a Jupyter environment, please rerun this cell to show the HTML representation or trust the notebook. <br />On GitHub, the HTML representation is unable to render, please try loading this page with nbviewer.org.</b></div><div class=\"sk-container\" hidden><div class=\"sk-item\"><div class=\"sk-estimator sk-toggleable\"><input class=\"sk-toggleable__control sk-hidden--visually\" id=\"sk-estimator-id-1\" type=\"checkbox\" checked><label for=\"sk-estimator-id-1\" class=\"sk-toggleable__label sk-toggleable__label-arrow\">KNeighborsClassifier</label><div class=\"sk-toggleable__content\"><pre>KNeighborsClassifier(n_jobs=-1, n_neighbors=1, p=1)</pre></div></div></div></div></div>"
      ],
      "text/plain": [
       "KNeighborsClassifier(n_jobs=-1, n_neighbors=1, p=1)"
      ]
     },
     "execution_count": 14,
     "metadata": {},
     "output_type": "execute_result"
    }
   ],
   "source": [
    "# Initialize and train the k-NN classifier with parameters obtained from grid search\n",
    "knn = KNeighborsClassifier(n_neighbors=1,\n",
    "                           p=1,\n",
    "                           n_jobs=-1)\n",
    "knn.fit(train_X, train_y)"
   ]
  },
  {
   "cell_type": "code",
   "execution_count": 15,
   "id": "5c91fd8e",
   "metadata": {},
   "outputs": [
    {
     "name": "stdout",
     "output_type": "stream",
     "text": [
      "Accuracy: 0.9865275142314991\n"
     ]
    }
   ],
   "source": [
    "# Evaluate the classifier on the test dataset\n",
    "knn_predictions = knn.predict(test_X)\n",
    "\n",
    "print(\"Accuracy:\", accuracy_score(test_y, knn_predictions))\n",
    "#print(classification_report(test_y,\n",
    "#                            knn_predictions,\n",
    "#                            labels=gestures[:-1],\n",
    "#                            target_names=gestures[:-1]))"
   ]
  },
  {
   "cell_type": "code",
   "execution_count": 16,
   "id": "48e6677f",
   "metadata": {},
   "outputs": [
    {
     "data": {
      "text/plain": [
       "(array([ 0,  1,  2,  3,  4,  5,  6,  7,  8,  9, 10, 11, 12, 13, 14, 15, 16,\n",
       "        17, 18, 19, 20, 21, 22, 23, 24, 25, 26, 27, 28, 29, 30, 31, 32, 33,\n",
       "        34, 35, 36, 37, 38, 39, 40, 41, 42, 43, 44, 45, 46, 47]),\n",
       " array([104, 110, 117, 115,  94, 114, 115, 111, 103, 116,  93, 113,  95,\n",
       "         98, 104, 121, 109, 126, 108, 110, 123, 116,  97, 123, 113, 107,\n",
       "        102, 117,  88, 117, 117, 110, 102, 121, 111, 107, 115, 103,  99,\n",
       "        110, 107, 117, 114, 128, 100,  93, 126, 111], dtype=int64))"
      ]
     },
     "execution_count": 16,
     "metadata": {},
     "output_type": "execute_result"
    }
   ],
   "source": [
    "np.unique(knn_predictions, return_counts=True)"
   ]
  },
  {
   "cell_type": "code",
   "execution_count": 17,
   "id": "cb794d0f",
   "metadata": {},
   "outputs": [
    {
     "data": {
      "text/plain": [
       "(array([ 0,  1,  2,  3,  4,  5,  6,  7,  8,  9, 10, 11, 12, 13, 14, 15, 16,\n",
       "        17, 18, 19, 20, 21, 22, 23, 24, 25, 26, 27, 28, 29, 30, 31, 32, 33,\n",
       "        34, 35, 36, 37, 38, 39, 40, 41, 42, 43, 44, 45, 46, 47]),\n",
       " array([104, 110, 114, 116,  93, 115, 115, 112, 100, 116,  92, 115,  95,\n",
       "         98, 104, 122, 109, 126, 110, 110, 123, 114,  97, 123, 108, 107,\n",
       "        102, 116,  91, 118, 119, 110,  99, 122, 113, 109, 115, 104,  98,\n",
       "        110, 106, 110, 117, 125, 102,  98, 125, 113], dtype=int64))"
      ]
     },
     "execution_count": 17,
     "metadata": {},
     "output_type": "execute_result"
    }
   ],
   "source": [
    "np.unique(test_y, return_counts=True)"
   ]
  }
 ],
 "metadata": {
  "kernelspec": {
   "display_name": "Python 3 (ipykernel)",
   "language": "python",
   "name": "python3"
  },
  "language_info": {
   "codemirror_mode": {
    "name": "ipython",
    "version": 3
   },
   "file_extension": ".py",
   "mimetype": "text/x-python",
   "name": "python",
   "nbconvert_exporter": "python",
   "pygments_lexer": "ipython3",
   "version": "3.10.9"
  }
 },
 "nbformat": 4,
 "nbformat_minor": 5
}
